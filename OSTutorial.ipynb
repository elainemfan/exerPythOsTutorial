{
 "cells": [
  {
   "cell_type": "code",
   "execution_count": 4,
   "source": [
    "import os\n",
    "\n",
    "print(os.getcwd())"
   ],
   "outputs": [
    {
     "output_type": "stream",
     "name": "stdout",
     "text": [
      "/Users/ElaineFan/Desktop/CS/wk3/exerPythModPackTutorial/exerPythOsTutorial\n"
     ]
    }
   ],
   "metadata": {}
  },
  {
   "cell_type": "code",
   "execution_count": 5,
   "source": [
    "os.chdir('/Users/ElaineFan/Desktop/CS/wk3/exerPythModPackTutorial/exerPythOsTutorial')"
   ],
   "outputs": [],
   "metadata": {}
  },
  {
   "cell_type": "code",
   "execution_count": 7,
   "source": [
    "os.mkdir('OS-Demo-2/Sub-Dir-1')"
   ],
   "outputs": [
    {
     "output_type": "error",
     "ename": "FileNotFoundError",
     "evalue": "[Errno 2] No such file or directory: 'OS-Demo-2/Sub-Dir-1'",
     "traceback": [
      "\u001b[0;31m---------------------------------------------------------------------------\u001b[0m",
      "\u001b[0;31mFileNotFoundError\u001b[0m                         Traceback (most recent call last)",
      "\u001b[0;32m<ipython-input-7-964f0dababf9>\u001b[0m in \u001b[0;36m<module>\u001b[0;34m\u001b[0m\n\u001b[0;32m----> 1\u001b[0;31m \u001b[0mos\u001b[0m\u001b[0;34m.\u001b[0m\u001b[0mmkdir\u001b[0m\u001b[0;34m(\u001b[0m\u001b[0;34m'OS-Demo-2/Sub-Dir-1'\u001b[0m\u001b[0;34m)\u001b[0m\u001b[0;34m\u001b[0m\u001b[0;34m\u001b[0m\u001b[0m\n\u001b[0m\u001b[1;32m      2\u001b[0m \u001b[0;34m\u001b[0m\u001b[0m\n\u001b[1;32m      3\u001b[0m \u001b[0mprint\u001b[0m\u001b[0;34m(\u001b[0m\u001b[0mos\u001b[0m\u001b[0;34m.\u001b[0m\u001b[0mlistdir\u001b[0m\u001b[0;34m(\u001b[0m\u001b[0;34m)\u001b[0m\u001b[0;34m)\u001b[0m\u001b[0;34m\u001b[0m\u001b[0;34m\u001b[0m\u001b[0m\n",
      "\u001b[0;31mFileNotFoundError\u001b[0m: [Errno 2] No such file or directory: 'OS-Demo-2/Sub-Dir-1'"
     ]
    }
   ],
   "metadata": {}
  },
  {
   "cell_type": "code",
   "execution_count": 8,
   "source": [
    "os.rmdir('OS-Demo-2/Sub-Dir-1')"
   ],
   "outputs": [
    {
     "output_type": "error",
     "ename": "FileNotFoundError",
     "evalue": "[Errno 2] No such file or directory: 'OS-Demo-2/Sub-Dir-1'",
     "traceback": [
      "\u001b[0;31m---------------------------------------------------------------------------\u001b[0m",
      "\u001b[0;31mFileNotFoundError\u001b[0m                         Traceback (most recent call last)",
      "\u001b[0;32m<ipython-input-8-aa9ab482f4b0>\u001b[0m in \u001b[0;36m<module>\u001b[0;34m\u001b[0m\n\u001b[0;32m----> 1\u001b[0;31m \u001b[0mos\u001b[0m\u001b[0;34m.\u001b[0m\u001b[0mrmdir\u001b[0m\u001b[0;34m(\u001b[0m\u001b[0;34m'OS-Demo-2/Sub-Dir-1'\u001b[0m\u001b[0;34m)\u001b[0m\u001b[0;34m\u001b[0m\u001b[0;34m\u001b[0m\u001b[0m\n\u001b[0m",
      "\u001b[0;31mFileNotFoundError\u001b[0m: [Errno 2] No such file or directory: 'OS-Demo-2/Sub-Dir-1'"
     ]
    }
   ],
   "metadata": {}
  },
  {
   "cell_type": "code",
   "execution_count": 9,
   "source": [
    "print(os.listdir())"
   ],
   "outputs": [
    {
     "output_type": "stream",
     "name": "stdout",
     "text": [
      "['README.md', '.git', 'OSTutorial.ipynb']\n"
     ]
    }
   ],
   "metadata": {}
  },
  {
   "cell_type": "code",
   "execution_count": 11,
   "source": [
    "print(os.stat('README.md'))"
   ],
   "outputs": [
    {
     "output_type": "stream",
     "name": "stdout",
     "text": [
      "os.stat_result(st_mode=33188, st_ino=46856258, st_dev=16777221, st_nlink=1, st_uid=501, st_gid=20, st_size=3150, st_atime=1631561200, st_mtime=1631561198, st_ctime=1631561198)\n"
     ]
    }
   ],
   "metadata": {}
  },
  {
   "cell_type": "code",
   "execution_count": 13,
   "source": [
    "from datetime import datetime\n",
    "mod_time = os.stat('README.md').st_mtime\n",
    "print(datetime.fromtimestamp(mod_time))"
   ],
   "outputs": [
    {
     "output_type": "stream",
     "name": "stdout",
     "text": [
      "2021-09-13 13:26:38.754245\n"
     ]
    }
   ],
   "metadata": {}
  },
  {
   "cell_type": "code",
   "execution_count": 14,
   "source": [
    "os.chdir('/Users/ElaineFan/Desktop/CS/wk3/exerPythModPackTutorial/exerPythOsTutorial')"
   ],
   "outputs": [],
   "metadata": {}
  },
  {
   "cell_type": "code",
   "execution_count": 15,
   "source": [
    "for dirpath, dirnames, filenames in os.walk('/Users/ElaineFan/Desktop/CS/wk3/exerPythModPackTutorial/exerPythOsTutorial'):\n",
    "    print('Current Path:', dirpath)\n",
    "    print('Directories:', dirnames)\n",
    "    print('Files:', filenames)\n",
    "    print()"
   ],
   "outputs": [
    {
     "output_type": "stream",
     "name": "stdout",
     "text": [
      "Current Path: /Users/ElaineFan/Desktop/CS/wk3/exerPythModPackTutorial/exerPythOsTutorial\n",
      "Directories: ['.git']\n",
      "Files: ['README.md', 'OSTutorial.ipynb']\n",
      "\n",
      "Current Path: /Users/ElaineFan/Desktop/CS/wk3/exerPythModPackTutorial/exerPythOsTutorial/.git\n",
      "Directories: ['objects', 'info', 'logs', 'hooks', 'refs']\n",
      "Files: ['config', 'HEAD', 'description', 'index', 'packed-refs']\n",
      "\n",
      "Current Path: /Users/ElaineFan/Desktop/CS/wk3/exerPythModPackTutorial/exerPythOsTutorial/.git/objects\n",
      "Directories: ['pack', 'info']\n",
      "Files: []\n",
      "\n",
      "Current Path: /Users/ElaineFan/Desktop/CS/wk3/exerPythModPackTutorial/exerPythOsTutorial/.git/objects/pack\n",
      "Directories: []\n",
      "Files: ['pack-3dcd781a7c96ffa7eb4340c2085d98e627b1fcc6.pack', 'pack-3dcd781a7c96ffa7eb4340c2085d98e627b1fcc6.idx']\n",
      "\n",
      "Current Path: /Users/ElaineFan/Desktop/CS/wk3/exerPythModPackTutorial/exerPythOsTutorial/.git/objects/info\n",
      "Directories: []\n",
      "Files: []\n",
      "\n",
      "Current Path: /Users/ElaineFan/Desktop/CS/wk3/exerPythModPackTutorial/exerPythOsTutorial/.git/info\n",
      "Directories: []\n",
      "Files: ['exclude']\n",
      "\n",
      "Current Path: /Users/ElaineFan/Desktop/CS/wk3/exerPythModPackTutorial/exerPythOsTutorial/.git/logs\n",
      "Directories: ['refs']\n",
      "Files: ['HEAD']\n",
      "\n",
      "Current Path: /Users/ElaineFan/Desktop/CS/wk3/exerPythModPackTutorial/exerPythOsTutorial/.git/logs/refs\n",
      "Directories: ['heads', 'remotes']\n",
      "Files: []\n",
      "\n",
      "Current Path: /Users/ElaineFan/Desktop/CS/wk3/exerPythModPackTutorial/exerPythOsTutorial/.git/logs/refs/heads\n",
      "Directories: []\n",
      "Files: ['master']\n",
      "\n",
      "Current Path: /Users/ElaineFan/Desktop/CS/wk3/exerPythModPackTutorial/exerPythOsTutorial/.git/logs/refs/remotes\n",
      "Directories: ['origin']\n",
      "Files: []\n",
      "\n",
      "Current Path: /Users/ElaineFan/Desktop/CS/wk3/exerPythModPackTutorial/exerPythOsTutorial/.git/logs/refs/remotes/origin\n",
      "Directories: []\n",
      "Files: ['HEAD']\n",
      "\n",
      "Current Path: /Users/ElaineFan/Desktop/CS/wk3/exerPythModPackTutorial/exerPythOsTutorial/.git/hooks\n",
      "Directories: []\n",
      "Files: ['commit-msg.sample', 'pre-rebase.sample', 'pre-commit.sample', 'applypatch-msg.sample', 'fsmonitor-watchman.sample', 'pre-receive.sample', 'prepare-commit-msg.sample', 'post-update.sample', 'pre-merge-commit.sample', 'pre-applypatch.sample', 'pre-push.sample', 'update.sample', 'push-to-checkout.sample']\n",
      "\n",
      "Current Path: /Users/ElaineFan/Desktop/CS/wk3/exerPythModPackTutorial/exerPythOsTutorial/.git/refs\n",
      "Directories: ['heads', 'tags', 'remotes']\n",
      "Files: []\n",
      "\n",
      "Current Path: /Users/ElaineFan/Desktop/CS/wk3/exerPythModPackTutorial/exerPythOsTutorial/.git/refs/heads\n",
      "Directories: []\n",
      "Files: ['master']\n",
      "\n",
      "Current Path: /Users/ElaineFan/Desktop/CS/wk3/exerPythModPackTutorial/exerPythOsTutorial/.git/refs/tags\n",
      "Directories: []\n",
      "Files: []\n",
      "\n",
      "Current Path: /Users/ElaineFan/Desktop/CS/wk3/exerPythModPackTutorial/exerPythOsTutorial/.git/refs/remotes\n",
      "Directories: ['origin']\n",
      "Files: []\n",
      "\n",
      "Current Path: /Users/ElaineFan/Desktop/CS/wk3/exerPythModPackTutorial/exerPythOsTutorial/.git/refs/remotes/origin\n",
      "Directories: []\n",
      "Files: ['HEAD']\n",
      "\n"
     ]
    }
   ],
   "metadata": {}
  },
  {
   "cell_type": "code",
   "execution_count": 16,
   "source": [
    "os.chdir('/Users/ElaineFan/Desktop/CS/wk3/exerPythModPackTutorial/exerPythOsTutorial')"
   ],
   "outputs": [],
   "metadata": {}
  },
  {
   "cell_type": "code",
   "execution_count": 17,
   "source": [
    "print(os.environ.get('HOME'))"
   ],
   "outputs": [
    {
     "output_type": "stream",
     "name": "stdout",
     "text": [
      "/Users/ElaineFan\n"
     ]
    }
   ],
   "metadata": {}
  },
  {
   "cell_type": "code",
   "execution_count": 18,
   "source": [
    "file_path= os.path.join(os.environ.get('HOME'), 'README.md')\n",
    "print(file_path)"
   ],
   "outputs": [
    {
     "output_type": "stream",
     "name": "stdout",
     "text": [
      "/Users/ElaineFan/README.md\n"
     ]
    }
   ],
   "metadata": {}
  },
  {
   "cell_type": "code",
   "execution_count": 19,
   "source": [
    "print(os.path.basename('/tmp/test.txt'))"
   ],
   "outputs": [
    {
     "output_type": "stream",
     "name": "stdout",
     "text": [
      "test.txt\n"
     ]
    }
   ],
   "metadata": {}
  },
  {
   "cell_type": "code",
   "execution_count": 20,
   "source": [
    "print(os.path.dirname('/tmp/test.txt'))"
   ],
   "outputs": [
    {
     "output_type": "stream",
     "name": "stdout",
     "text": [
      "/tmp\n"
     ]
    }
   ],
   "metadata": {}
  },
  {
   "cell_type": "code",
   "execution_count": 21,
   "source": [
    "print(os.path.split('/tmp/test.txt'))"
   ],
   "outputs": [
    {
     "output_type": "stream",
     "name": "stdout",
     "text": [
      "('/tmp', 'test.txt')\n"
     ]
    }
   ],
   "metadata": {}
  },
  {
   "cell_type": "code",
   "execution_count": 22,
   "source": [
    "print(os.path.exists('/tmp/test.txt'))"
   ],
   "outputs": [
    {
     "output_type": "stream",
     "name": "stdout",
     "text": [
      "False\n"
     ]
    }
   ],
   "metadata": {}
  },
  {
   "cell_type": "code",
   "execution_count": 23,
   "source": [
    "print(os.path.isdir('/tmp/test.txt'))"
   ],
   "outputs": [
    {
     "output_type": "stream",
     "name": "stdout",
     "text": [
      "False\n"
     ]
    }
   ],
   "metadata": {}
  },
  {
   "cell_type": "code",
   "execution_count": 24,
   "source": [
    "print(os.path.isfile('/tmp/test.txt'))"
   ],
   "outputs": [
    {
     "output_type": "stream",
     "name": "stdout",
     "text": [
      "False\n"
     ]
    }
   ],
   "metadata": {}
  },
  {
   "cell_type": "code",
   "execution_count": 25,
   "source": [
    "print(os.path.splitext('/tmp/test.txt'))"
   ],
   "outputs": [
    {
     "output_type": "stream",
     "name": "stdout",
     "text": [
      "('/tmp/test', '.txt')\n"
     ]
    }
   ],
   "metadata": {}
  },
  {
   "cell_type": "code",
   "execution_count": null,
   "source": [
    "https://www.python.org/doc/\n",
    "https://docs.python.org/3/library/os.html"
   ],
   "outputs": [],
   "metadata": {}
  }
 ],
 "metadata": {
  "orig_nbformat": 4,
  "language_info": {
   "name": "python",
   "version": "3.8.8",
   "mimetype": "text/x-python",
   "codemirror_mode": {
    "name": "ipython",
    "version": 3
   },
   "pygments_lexer": "ipython3",
   "nbconvert_exporter": "python",
   "file_extension": ".py"
  },
  "kernelspec": {
   "name": "python3",
   "display_name": "Python 3.8.8 64-bit ('base': conda)"
  },
  "interpreter": {
   "hash": "ceeeedb85c0ef194a1205176bf405a3767ad7aeb6287bd669b0bb225ba1e139c"
  }
 },
 "nbformat": 4,
 "nbformat_minor": 2
}